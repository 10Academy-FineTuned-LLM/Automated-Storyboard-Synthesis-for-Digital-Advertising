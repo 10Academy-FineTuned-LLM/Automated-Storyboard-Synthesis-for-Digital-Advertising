{
 "cells": [
  {
   "cell_type": "code",
   "execution_count": 2,
   "id": "eb0434dd-1641-4280-8819-e49f2dcca6f2",
   "metadata": {},
   "outputs": [],
   "source": [
    "import tensorflow as tf\n",
    "from tensorflow.keras import layers\n",
    "from tensorflow.keras.preprocessing.text import Tokenizer\n",
    "from tensorflow.keras.preprocessing.sequence import pad_sequences\n",
    "import numpy as np\n"
   ]
  },
  {
   "cell_type": "code",
   "execution_count": 3,
   "id": "f0f0670e-d36b-486b-91b3-c44bcb8f80ba",
   "metadata": {},
   "outputs": [],
   "source": [
    "# Define a simple image generator model\n",
    "def build_generator():\n",
    "    model = tf.keras.Sequential([\n",
    "        layers.Concatenate(),  # Concatenate inputs before passing to the first layer\n",
    "        layers.Dense(256, activation='relu'),\n",
    "        layers.Dense(512, activation='relu'),\n",
    "        layers.Dense(28 * 28 * 3, activation='sigmoid'),\n",
    "        layers.Reshape((28, 28, 3))\n",
    "    ])\n",
    "    return model"
   ]
  },
  {
   "cell_type": "code",
   "execution_count": 4,
   "id": "0d5ba02d-ef51-463e-ad48-4cc544afde68",
   "metadata": {},
   "outputs": [],
   "source": [
    "# Generate images based on text descriptions\n",
    "def generate_images(texts):\n",
    "    tokenizer = Tokenizer(num_words=1000)\n",
    "    tokenizer.fit_on_texts(texts)\n",
    "    sequences = tokenizer.texts_to_sequences(texts)\n",
    "    padded_sequences = pad_sequences(sequences, maxlen=100)\n",
    "    \n",
    "    # Generate noise vectors as input to the generator\n",
    "    noise = np.random.normal(size=(len(texts), 100))\n",
    "    \n",
    "    # Build and compile the generator model\n",
    "    generator = build_generator()\n",
    "    generator.compile(loss='binary_crossentropy', optimizer='adam')\n",
    "    \n",
    "    # Generate images from noise and text descriptions\n",
    "    generated_images = generator.predict([padded_sequences, noise])\n",
    "    \n",
    "    return generated_images"
   ]
  },
  {
   "cell_type": "code",
   "execution_count": 5,
   "id": "991786c7-3412-4b0b-a23b-7b3a8ef98079",
   "metadata": {},
   "outputs": [
    {
     "ename": "TypeError",
     "evalue": "in user code:\n\n    File \"/home/eyaya/.local/lib/python3.10/site-packages/keras/src/engine/training.py\", line 2440, in predict_function  *\n        return step_function(self, iterator)\n    File \"/home/eyaya/.local/lib/python3.10/site-packages/keras/src/engine/training.py\", line 2425, in step_function  **\n        outputs = model.distribute_strategy.run(run_step, args=(data,))\n    File \"/home/eyaya/.local/lib/python3.10/site-packages/keras/src/engine/training.py\", line 2413, in run_step  **\n        outputs = model.predict_step(data)\n    File \"/home/eyaya/.local/lib/python3.10/site-packages/keras/src/engine/training.py\", line 2381, in predict_step\n        return self(x, training=False)\n    File \"/home/eyaya/.local/lib/python3.10/site-packages/keras/src/utils/traceback_utils.py\", line 70, in error_handler\n        raise e.with_traceback(filtered_tb) from None\n    File \"/home/eyaya/.local/lib/python3.10/site-packages/keras/src/backend.py\", line 3580, in concatenate\n        return tf.concat([to_dense(x) for x in tensors], axis)\n\n    TypeError: Exception encountered when calling layer 'concatenate' (type Concatenate).\n    \n    Tensors in list passed to 'values' of 'ConcatV2' Op have types [int32, float32] that don't all match.\n    \n    Call arguments received by layer 'concatenate' (type Concatenate):\n      • inputs=('tf.Tensor(shape=(None, 100), dtype=int32)', 'tf.Tensor(shape=(None, 100), dtype=float32)')\n",
     "output_type": "error",
     "traceback": [
      "\u001b[0;31m---------------------------------------------------------------------------\u001b[0m",
      "\u001b[0;31mTypeError\u001b[0m                                 Traceback (most recent call last)",
      "Cell \u001b[0;32mIn[5], line 5\u001b[0m\n\u001b[1;32m      2\u001b[0m ad_descriptions \u001b[38;5;241m=\u001b[39m [\u001b[38;5;124m\"\u001b[39m\u001b[38;5;124mA delicious cup of coffee\u001b[39m\u001b[38;5;124m\"\u001b[39m, \u001b[38;5;124m\"\u001b[39m\u001b[38;5;124mExploring the great outdoors\u001b[39m\u001b[38;5;124m\"\u001b[39m, \u001b[38;5;124m\"\u001b[39m\u001b[38;5;124mFashionable clothing trends\u001b[39m\u001b[38;5;124m\"\u001b[39m]\n\u001b[1;32m      4\u001b[0m \u001b[38;5;66;03m# Generate images based on text descriptions\u001b[39;00m\n\u001b[0;32m----> 5\u001b[0m generated_images \u001b[38;5;241m=\u001b[39m \u001b[43mgenerate_images\u001b[49m\u001b[43m(\u001b[49m\u001b[43mad_descriptions\u001b[49m\u001b[43m)\u001b[49m\n",
      "Cell \u001b[0;32mIn[4], line 16\u001b[0m, in \u001b[0;36mgenerate_images\u001b[0;34m(texts)\u001b[0m\n\u001b[1;32m     13\u001b[0m generator\u001b[38;5;241m.\u001b[39mcompile(loss\u001b[38;5;241m=\u001b[39m\u001b[38;5;124m'\u001b[39m\u001b[38;5;124mbinary_crossentropy\u001b[39m\u001b[38;5;124m'\u001b[39m, optimizer\u001b[38;5;241m=\u001b[39m\u001b[38;5;124m'\u001b[39m\u001b[38;5;124madam\u001b[39m\u001b[38;5;124m'\u001b[39m)\n\u001b[1;32m     15\u001b[0m \u001b[38;5;66;03m# Generate images from noise and text descriptions\u001b[39;00m\n\u001b[0;32m---> 16\u001b[0m generated_images \u001b[38;5;241m=\u001b[39m \u001b[43mgenerator\u001b[49m\u001b[38;5;241;43m.\u001b[39;49m\u001b[43mpredict\u001b[49m\u001b[43m(\u001b[49m\u001b[43m[\u001b[49m\u001b[43mpadded_sequences\u001b[49m\u001b[43m,\u001b[49m\u001b[43m \u001b[49m\u001b[43mnoise\u001b[49m\u001b[43m]\u001b[49m\u001b[43m)\u001b[49m\n\u001b[1;32m     18\u001b[0m \u001b[38;5;28;01mreturn\u001b[39;00m generated_images\n",
      "File \u001b[0;32m~/.local/lib/python3.10/site-packages/keras/src/utils/traceback_utils.py:70\u001b[0m, in \u001b[0;36mfilter_traceback.<locals>.error_handler\u001b[0;34m(*args, **kwargs)\u001b[0m\n\u001b[1;32m     67\u001b[0m     filtered_tb \u001b[38;5;241m=\u001b[39m _process_traceback_frames(e\u001b[38;5;241m.\u001b[39m__traceback__)\n\u001b[1;32m     68\u001b[0m     \u001b[38;5;66;03m# To get the full stack trace, call:\u001b[39;00m\n\u001b[1;32m     69\u001b[0m     \u001b[38;5;66;03m# `tf.debugging.disable_traceback_filtering()`\u001b[39;00m\n\u001b[0;32m---> 70\u001b[0m     \u001b[38;5;28;01mraise\u001b[39;00m e\u001b[38;5;241m.\u001b[39mwith_traceback(filtered_tb) \u001b[38;5;28;01mfrom\u001b[39;00m \u001b[38;5;28;01mNone\u001b[39;00m\n\u001b[1;32m     71\u001b[0m \u001b[38;5;28;01mfinally\u001b[39;00m:\n\u001b[1;32m     72\u001b[0m     \u001b[38;5;28;01mdel\u001b[39;00m filtered_tb\n",
      "File \u001b[0;32m/tmp/__autograph_generated_filej6r0af4u.py:15\u001b[0m, in \u001b[0;36mouter_factory.<locals>.inner_factory.<locals>.tf__predict_function\u001b[0;34m(iterator)\u001b[0m\n\u001b[1;32m     13\u001b[0m \u001b[38;5;28;01mtry\u001b[39;00m:\n\u001b[1;32m     14\u001b[0m     do_return \u001b[38;5;241m=\u001b[39m \u001b[38;5;28;01mTrue\u001b[39;00m\n\u001b[0;32m---> 15\u001b[0m     retval_ \u001b[38;5;241m=\u001b[39m ag__\u001b[38;5;241m.\u001b[39mconverted_call(ag__\u001b[38;5;241m.\u001b[39mld(step_function), (ag__\u001b[38;5;241m.\u001b[39mld(\u001b[38;5;28mself\u001b[39m), ag__\u001b[38;5;241m.\u001b[39mld(iterator)), \u001b[38;5;28;01mNone\u001b[39;00m, fscope)\n\u001b[1;32m     16\u001b[0m \u001b[38;5;28;01mexcept\u001b[39;00m:\n\u001b[1;32m     17\u001b[0m     do_return \u001b[38;5;241m=\u001b[39m \u001b[38;5;28;01mFalse\u001b[39;00m\n",
      "\u001b[0;31mTypeError\u001b[0m: in user code:\n\n    File \"/home/eyaya/.local/lib/python3.10/site-packages/keras/src/engine/training.py\", line 2440, in predict_function  *\n        return step_function(self, iterator)\n    File \"/home/eyaya/.local/lib/python3.10/site-packages/keras/src/engine/training.py\", line 2425, in step_function  **\n        outputs = model.distribute_strategy.run(run_step, args=(data,))\n    File \"/home/eyaya/.local/lib/python3.10/site-packages/keras/src/engine/training.py\", line 2413, in run_step  **\n        outputs = model.predict_step(data)\n    File \"/home/eyaya/.local/lib/python3.10/site-packages/keras/src/engine/training.py\", line 2381, in predict_step\n        return self(x, training=False)\n    File \"/home/eyaya/.local/lib/python3.10/site-packages/keras/src/utils/traceback_utils.py\", line 70, in error_handler\n        raise e.with_traceback(filtered_tb) from None\n    File \"/home/eyaya/.local/lib/python3.10/site-packages/keras/src/backend.py\", line 3580, in concatenate\n        return tf.concat([to_dense(x) for x in tensors], axis)\n\n    TypeError: Exception encountered when calling layer 'concatenate' (type Concatenate).\n    \n    Tensors in list passed to 'values' of 'ConcatV2' Op have types [int32, float32] that don't all match.\n    \n    Call arguments received by layer 'concatenate' (type Concatenate):\n      • inputs=('tf.Tensor(shape=(None, 100), dtype=int32)', 'tf.Tensor(shape=(None, 100), dtype=float32)')\n"
     ]
    }
   ],
   "source": [
    "# Example text descriptions\n",
    "ad_descriptions = [\"A delicious cup of coffee\", \"Exploring the great outdoors\", \"Fashionable clothing trends\"]\n",
    "\n",
    "# Generate images based on text descriptions\n",
    "generated_images = generate_images(ad_descriptions)"
   ]
  },
  {
   "cell_type": "code",
   "execution_count": null,
   "id": "6b74af33-d4bf-47ab-a1fa-6108b2a03972",
   "metadata": {},
   "outputs": [],
   "source": []
  }
 ],
 "metadata": {
  "kernelspec": {
   "display_name": "Python 3 (ipykernel)",
   "language": "python",
   "name": "python3"
  },
  "language_info": {
   "codemirror_mode": {
    "name": "ipython",
    "version": 3
   },
   "file_extension": ".py",
   "mimetype": "text/x-python",
   "name": "python",
   "nbconvert_exporter": "python",
   "pygments_lexer": "ipython3",
   "version": "3.10.12"
  }
 },
 "nbformat": 4,
 "nbformat_minor": 5
}
