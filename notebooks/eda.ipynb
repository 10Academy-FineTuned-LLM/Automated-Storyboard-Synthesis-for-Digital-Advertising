{
 "cells": [
  {
   "cell_type": "code",
   "execution_count": 2,
   "metadata": {},
   "outputs": [],
   "source": [
    "import pandas as pd;\n"
   ]
  },
  {
   "cell_type": "markdown",
   "metadata": {},
   "source": [
    "## Exploring the concepts data"
   ]
  },
  {
   "cell_type": "code",
   "execution_count": 3,
   "metadata": {},
   "outputs": [
    {
     "data": {
      "text/html": [
       "<div>\n",
       "<style scoped>\n",
       "    .dataframe tbody tr th:only-of-type {\n",
       "        vertical-align: middle;\n",
       "    }\n",
       "\n",
       "    .dataframe tbody tr th {\n",
       "        vertical-align: top;\n",
       "    }\n",
       "\n",
       "    .dataframe thead th {\n",
       "        text-align: right;\n",
       "    }\n",
       "</style>\n",
       "<table border=\"1\" class=\"dataframe\">\n",
       "  <thead>\n",
       "    <tr style=\"text-align: right;\">\n",
       "      <th></th>\n",
       "      <th>concept</th>\n",
       "      <th>implementation</th>\n",
       "      <th>explanation</th>\n",
       "      <th>asset_suggestions</th>\n",
       "    </tr>\n",
       "  </thead>\n",
       "  <tbody>\n",
       "    <tr>\n",
       "      <th>0</th>\n",
       "      <td>Escape Challenge Teaser</td>\n",
       "      <td>{'frame_1': {'description': 'The ad begins wit...</td>\n",
       "      <td>This concept aligns with LEGO CITY's brand ide...</td>\n",
       "      <td>[{'frame_1': {'Background Animation': 'A suspe...</td>\n",
       "    </tr>\n",
       "    <tr>\n",
       "      <th>1</th>\n",
       "      <td>Interactive Storytelling</td>\n",
       "      <td>{'frame_1': {'description': 'The ad opens with...</td>\n",
       "      <td>This concept aligns with LEGO CITY's brand ide...</td>\n",
       "      <td>[{'frame_1': {'Background Animation': 'A suspe...</td>\n",
       "    </tr>\n",
       "    <tr>\n",
       "      <th>2</th>\n",
       "      <td>City Tour</td>\n",
       "      <td>{'frame_1': {'description': 'The ad begins wit...</td>\n",
       "      <td>This concept aligns with LEGO CITY's brand ide...</td>\n",
       "      <td>[{'frame_1': {'Background Animation': 'A suspe...</td>\n",
       "    </tr>\n",
       "    <tr>\n",
       "      <th>3</th>\n",
       "      <td>Interactive Globe Journey</td>\n",
       "      <td>{'frame_1': {'description': 'The ad opens with...</td>\n",
       "      <td>This concept aligns with the brand's identity ...</td>\n",
       "      <td>[{'frame_1': {'3D Globe': 'A high-definition 3...</td>\n",
       "    </tr>\n",
       "    <tr>\n",
       "      <th>4</th>\n",
       "      <td>Cultural Carousel</td>\n",
       "      <td>{'frame_1': {'description': 'A carousel of cul...</td>\n",
       "      <td>This concept leverages the brand's diverse por...</td>\n",
       "      <td>[{'frame_1': {'Background Image': 'A high-reso...</td>\n",
       "    </tr>\n",
       "  </tbody>\n",
       "</table>\n",
       "</div>"
      ],
      "text/plain": [
       "                     concept  \\\n",
       "0    Escape Challenge Teaser   \n",
       "1   Interactive Storytelling   \n",
       "2                  City Tour   \n",
       "3  Interactive Globe Journey   \n",
       "4          Cultural Carousel   \n",
       "\n",
       "                                      implementation  \\\n",
       "0  {'frame_1': {'description': 'The ad begins wit...   \n",
       "1  {'frame_1': {'description': 'The ad opens with...   \n",
       "2  {'frame_1': {'description': 'The ad begins wit...   \n",
       "3  {'frame_1': {'description': 'The ad opens with...   \n",
       "4  {'frame_1': {'description': 'A carousel of cul...   \n",
       "\n",
       "                                         explanation  \\\n",
       "0  This concept aligns with LEGO CITY's brand ide...   \n",
       "1  This concept aligns with LEGO CITY's brand ide...   \n",
       "2  This concept aligns with LEGO CITY's brand ide...   \n",
       "3  This concept aligns with the brand's identity ...   \n",
       "4  This concept leverages the brand's diverse por...   \n",
       "\n",
       "                                   asset_suggestions  \n",
       "0  [{'frame_1': {'Background Animation': 'A suspe...  \n",
       "1  [{'frame_1': {'Background Animation': 'A suspe...  \n",
       "2  [{'frame_1': {'Background Animation': 'A suspe...  \n",
       "3  [{'frame_1': {'3D Globe': 'A high-definition 3...  \n",
       "4  [{'frame_1': {'Background Image': 'A high-reso...  "
      ]
     },
     "execution_count": 3,
     "metadata": {},
     "output_type": "execute_result"
    }
   ],
   "source": [
    "concepts_df = pd.read_json('../data/concepts.json')\n",
    "concepts_df.head()"
   ]
  },
  {
   "cell_type": "code",
   "execution_count": 29,
   "metadata": {},
   "outputs": [
    {
     "data": {
      "text/plain": [
       "(115, 4)"
      ]
     },
     "execution_count": 29,
     "metadata": {},
     "output_type": "execute_result"
    }
   ],
   "source": [
    "concepts_df.shape"
   ]
  },
  {
   "cell_type": "code",
   "execution_count": 8,
   "metadata": {},
   "outputs": [
    {
     "data": {
      "text/plain": [
       "[{'frame_1': {'Background Animation': \"A suspenseful animation of a LEGO CITY set, with buildings, vehicles, and mini-figures coming to life in a dynamic, 3D environment. The animation is designed to captivate the viewer's attention and set the stage for the upcoming challenge.\",\n",
       "   'Tagline': \"'YOUR CITY, NO LIMITS' appears in bold, vibrant letters, reinforcing the campaign's theme of boundless creativity and adventure.\",\n",
       "   'Countdown Timer': \"A digital countdown timer, styled to resemble LEGO bricks, adds an element of suspense and anticipation, building up to the reveal of the 'ULTIMATE ESCAPE CHALLENGE'.\"},\n",
       "  'frame_2': {'Video Clips': \"A series of quick, exciting clips showcasing various challenges in the 'ULTIMATE ESCAPE CHALLENGE'. Each clip features different LEGO CITY sets and mini-figures, highlighting the diversity and expansiveness of the LEGO CITY universe.\",\n",
       "   'Swipe Indicator': 'A subtle, animated swipe indicator encourages viewers to interact with the ad and explore the different challenges.'},\n",
       "  'frame_3': {'Logo': 'The LEGO CITY 2024 logo, designed with the iconic LEGO brick pattern, reinforces brand recognition and ties the ad back to the product line.',\n",
       "   'CTA Button': \"A 'Play Now' button, styled to resemble a LEGO brick, invites users to join the challenge on the LEGO website. The button is strategically placed to be easily noticeable and accessible, encouraging viewers to take immediate action.\"},\n",
       "  'explanation': \"This variation aligns with the creative brief by effectively promoting the LEGO CITY 2024 product line and the 'ULTIMATE ESCAPE CHALLENGE'. The suspenseful animation and countdown timer in the first frame capture the viewer's attention and set the stage for the challenge. The quick, exciting clips in the second frame showcase the diversity and expansiveness of the LEGO CITY universe, appealing to the target audience's interest in games and challenges. The LEGO CITY 2024 logo and 'Play Now' button in the final frame reinforce brand recognition and drive traffic to the brand's website, achieving the campaign's objectives of enhancing audience engagement and increasing product and brand awareness.\"},\n",
       " {'frame_1': {'Background': 'A lively, animated cityscape made entirely of LEGO CITY sets. The cityscape should be filled with LEGO characters engaging in various activities, showcasing the fun and entertainment offered by the LEGO CITY universe.',\n",
       "   'Logo': 'The LEGO logo appears prominently at the center of the frame, reinforcing brand recognition.',\n",
       "   'Tagline': \"'YOUR CITY, NO LIMITS' appears in bold, colorful font, capturing the frame's message and the campaign's overarching theme.\",\n",
       "   'Interactive Element': \"A 'Tap to Begin' button, inviting viewers to interact with the ad.\"},\n",
       "  'frame_2': {'Background': \"A blank, grid-like canvas that serves as the foundation for the viewer's LEGO city.\",\n",
       "   'Toolbox': 'A toolbox filled with various LEGO CITY sets appears at the bottom of the screen. Each set should be clearly visible and identifiable, showcasing the product range.',\n",
       "   'Interactive Element': \"The 'Drag and Drop' feature, allowing viewers to select LEGO sets from the toolbox and place them onto the canvas.\"},\n",
       "  'frame_3': {'Background': \"The viewer's city, coming to life as they add LEGO sets. The city should be animated, with LEGO characters and vehicles moving around.\",\n",
       "   'Sound Effects': \"Sound effects that correspond to the viewer's actions, enhancing the immersive experience.\",\n",
       "   'Interactive Element': \"The 'Tap to Animate' feature, allowing viewers to animate their city by tapping on the LEGO sets.\"},\n",
       "  'frame_4': {'Background': \"The viewer's fully built and animated LEGO city.\",\n",
       "   'CTA': \"A 'Start Challenge' button that invites the viewer to start the 'ULTIMATE ESCAPE CHALLENGE', driving traffic to the brand's website.\",\n",
       "   'Interactive Element': \"The 'Tap to Start Challenge' feature, prompting viewers to interact with the ad and engage with the brand.\"},\n",
       "  'explanation': \"This variation aligns with the concept and brief by leveraging interactive elements and product imagery to engage the target audience and promote the LEGO CITY product line. The lively cityscape in Frame 1 captures the viewer's attention and sets the stage for the interactive experience. The toolbox in Frame 2 showcases the product range and allows viewers to engage with the ad by building their own city. The animations and sound effects in Frame 3 enhance the immersive experience and foster creativity, aligning with the brand's identity. The 'Start Challenge' button in Frame 4 drives traffic to the brand's website, achieving the campaign's objectives. The assets across frames work together to create a cohesive narrative that resonates with the target audience and promotes the LEGO CITY brand.\"},\n",
       " {'frame_1': {'Background': 'A vibrant, detailed image of a LEGO CITY set, showcasing key features like buildings, vehicles, and mini-figures',\n",
       "   'Interactive Element': \"'Choose Your Adventure' prompt, a large, colorful button placed strategically to draw attention\",\n",
       "   'Logo': 'LEGO logo placed subtly in the corner to reinforce brand recognition'},\n",
       "  'frame_2': {'Animation': 'A unique, engaging animation that brings the chosen part of the city to life, highlighting the fun and creativity of LEGO CITY',\n",
       "   'Interactive Element': 'Swipe functionality to allow users to navigate through the story',\n",
       "   'Text': \"Brief, compelling text that narrates the story and enhances the viewer's immersion\"},\n",
       "  'frame_3': {'CTA': \"'Continue the Adventure' button, designed to be eye-catching and compelling, prompting users to visit the LEGO website\",\n",
       "   'Ending Scene': 'A cliffhanger scene that leaves viewers eager to continue the adventure',\n",
       "   'Logo': 'LEGO logo, slightly more prominent to reinforce brand identity'},\n",
       "  'explanation': \"This variation aligns with the creative brief by leveraging the interactive storytelling concept to engage the target audience of boys aged 6-8. The detailed LEGO CITY set image in frame 1 captures viewers' attention and invites them to interact with the ad. The animation in frame 2 immerses viewers in the LEGO CITY universe, enhancing their engagement and increasing product awareness. The cliffhanger and CTA in frame 3 drive traffic to the LEGO website, contributing to the campaign's objectives. The consistent use of the LEGO logo across frames reinforces brand recognition.\"},\n",
       " {'frame_1': {'Background': \"A vibrant, bustling LEGO CITY, meticulously crafted with LEGO bricks, showcasing a bird's-eye view. The city is alive with miniature LEGO citizens, vehicles, and buildings, reflecting the brand's commitment to detail and creativity.\",\n",
       "   'Interactive Element': \"A 'Start Tour' button, designed in LEGO's signature bright colors, inviting users to tap and begin their exploration of the city.\",\n",
       "   'Logo': 'The LEGO logo, subtly placed in the corner to reinforce brand recognition without distracting from the city view.'},\n",
       "  'frame_2': {'Background': 'A first-person view of the LEGO CITY, immersing users in the cityscape. The city is filled with diverse LEGO buildings, each showcasing unique architectural designs and features.',\n",
       "   'Interactive Element': 'Swipe functionality, allowing users to navigate through the city. Tappable buildings, each revealing fun facts or trivia about the building when tapped, engaging users and enhancing their knowledge of LEGO CITY.',\n",
       "   'Text': 'Brief, engaging descriptions that pop up when a building is tapped, providing information about the building in a fun and educational manner.'},\n",
       "  'frame_3': {'Background': 'A final view of the LEGO CITY, with the cityscape subtly transitioning into the LEGO CITY 2024 logo.',\n",
       "   'Interactive Element': \"A 'Join the City' button, designed in LEGO's signature colors, directing users to the LEGO website.\",\n",
       "   'Logo': 'The LEGO CITY 2024 logo, prominently displayed to reinforce product awareness and brand recognition.'},\n",
       "  'explanation': \"This variation aligns with the 'City Tour' concept by providing an interactive tour of a LEGO CITY, engaging users and enhancing their knowledge of the product. The use of vibrant colors and detailed LEGO buildings reflects the brand's commitment to creativity and detail, appealing to the target demographic's interest in exploration and discovery. The interactive elements, such as the 'Start Tour' and 'Join the City' buttons and the tappable buildings, enhance audience engagement and drive traffic to the brand's website, achieving the campaign's objectives. The LEGO and LEGO CITY 2024 logos reinforce brand and product awareness, contributing to the campaign's success.\"},\n",
       " {'frame_1': {'Background': 'A vibrant, bustling LEGO CITY set, showcasing key features like the police station, fire station, and various vehicles',\n",
       "   'Foreground': \"A large, eye-catching 'Test Your Knowledge' prompt in LEGO's signature yellow and red colors\",\n",
       "   'Interactive Element': \"A 'Tap to Start' button, inviting users to engage with the ad\"},\n",
       "  'frame_2': {'Background': 'A series of LEGO CITY scenes related to the quiz questions',\n",
       "   'Foreground': 'Multiple-choice questions in playful, kid-friendly fonts',\n",
       "   'Interactive Element': 'Answer options that users can tap on to proceed'},\n",
       "  'frame_3': {'Background': 'A celebratory scene with LEGO characters cheering',\n",
       "   'Foreground': \"The user's score displayed in large, bold numbers\",\n",
       "   'Interactive Element': \"A 'Learn More' button, directing users to the LEGO website\"},\n",
       "  'explanation': \"This variation emphasizes the interactive and educational aspects of the LEGO CITY Quiz concept. The vibrant LEGO CITY set in the first frame captures the viewer's attention and sets the stage for the quiz. The multiple-choice questions in the second frame engage the viewer's curiosity and stimulate their knowledge about LEGO CITY. The celebratory scene in the third frame rewards the viewer's participation and encourages them to learn more about LEGO CITY on the brand's website. This variation aligns with the campaign's objectives of enhancing audience engagement, increasing product and brand awareness, and driving traffic to the brand's website.\"}]"
      ]
     },
     "execution_count": 8,
     "metadata": {},
     "output_type": "execute_result"
    }
   ],
   "source": [
    "concepts_df.loc[0,'asset_suggestions']"
   ]
  },
  {
   "cell_type": "code",
   "execution_count": 32,
   "metadata": {},
   "outputs": [
    {
     "data": {
      "text/plain": [
       "5"
      ]
     },
     "execution_count": 32,
     "metadata": {},
     "output_type": "execute_result"
    }
   ],
   "source": [
    "# the number of variations for the first concept\n",
    "len(concepts_df.loc[0,'asset_suggestions'])"
   ]
  },
  {
   "cell_type": "code",
   "execution_count": 28,
   "metadata": {},
   "outputs": [
    {
     "data": {
      "text/plain": [
       "concept\n",
       "The ad begins with a captivating image of the Sony a7 III camera, followed by a series of interactive frames showcasing its key features. The final frame includes a call-to-action, leading users to the product page.    5\n",
       "The Journey Begins Here                                                                                                                                                                                                    3\n",
       "Interactive Globe Journey                                                                                                                                                                                                  3\n",
       "The Journey of a SmartPack                                                                                                                                                                                                 2\n",
       "LEGO CITY Quiz                                                                                                                                                                                                             2\n",
       "                                                                                                                                                                                                                          ..\n",
       "Interactive Travel Story                                                                                                                                                                                                   1\n",
       "Coca-Cola Music Memory Game                                                                                                                                                                                                1\n",
       "Coke Studio Talent Spotlight                                                                                                                                                                                               1\n",
       "Coke Studio Virtual Concert Experience                                                                                                                                                                                     1\n",
       "The Silver Journey                                                                                                                                                                                                         1\n",
       "Name: count, Length: 99, dtype: int64"
      ]
     },
     "execution_count": 28,
     "metadata": {},
     "output_type": "execute_result"
    }
   ],
   "source": [
    "concepts_df['concept'].value_counts()"
   ]
  },
  {
   "cell_type": "code",
   "execution_count": 66,
   "metadata": {},
   "outputs": [
    {
     "data": {
      "text/plain": [
       "{'frame_1': {'Background Animation': \"A suspenseful animation of a LEGO CITY set, with buildings, vehicles, and mini-figures coming to life in a dynamic, 3D environment. The animation is designed to captivate the viewer's attention and set the stage for the upcoming challenge.\",\n",
       "  'Tagline': \"'YOUR CITY, NO LIMITS' appears in bold, vibrant letters, reinforcing the campaign's theme of boundless creativity and adventure.\",\n",
       "  'Countdown Timer': \"A digital countdown timer, styled to resemble LEGO bricks, adds an element of suspense and anticipation, building up to the reveal of the 'ULTIMATE ESCAPE CHALLENGE'.\"},\n",
       " 'frame_2': {'Video Clips': \"A series of quick, exciting clips showcasing various challenges in the 'ULTIMATE ESCAPE CHALLENGE'. Each clip features different LEGO CITY sets and mini-figures, highlighting the diversity and expansiveness of the LEGO CITY universe.\",\n",
       "  'Swipe Indicator': 'A subtle, animated swipe indicator encourages viewers to interact with the ad and explore the different challenges.'},\n",
       " 'frame_3': {'Logo': 'The LEGO CITY 2024 logo, designed with the iconic LEGO brick pattern, reinforces brand recognition and ties the ad back to the product line.',\n",
       "  'CTA Button': \"A 'Play Now' button, styled to resemble a LEGO brick, invites users to join the challenge on the LEGO website. The button is strategically placed to be easily noticeable and accessible, encouraging viewers to take immediate action.\"},\n",
       " 'explanation': \"This variation aligns with the creative brief by effectively promoting the LEGO CITY 2024 product line and the 'ULTIMATE ESCAPE CHALLENGE'. The suspenseful animation and countdown timer in the first frame capture the viewer's attention and set the stage for the challenge. The quick, exciting clips in the second frame showcase the diversity and expansiveness of the LEGO CITY universe, appealing to the target audience's interest in games and challenges. The LEGO CITY 2024 logo and 'Play Now' button in the final frame reinforce brand recognition and drive traffic to the brand's website, achieving the campaign's objectives of enhancing audience engagement and increasing product and brand awareness.\"}"
      ]
     },
     "execution_count": 66,
     "metadata": {},
     "output_type": "execute_result"
    }
   ],
   "source": [
    "# get the asset suggestion for the first concept and the first suggestion\n",
    "first_concept_first_asset_suggestion = concepts_df.loc[0,'asset_suggestions'][0]\n",
    "first_concept_first_asset_suggestion"
   ]
  },
  {
   "cell_type": "code",
   "execution_count": 72,
   "metadata": {},
   "outputs": [
    {
     "data": {
      "text/plain": [
       "[{'Frame': 'frame_1',\n",
       "  'Categories': ['Background Animation', 'Tagline', 'Countdown Timer'],\n",
       "  'Prompts': [\"A suspenseful animation of a LEGO CITY set, with buildings, vehicles, and mini-figures coming to life in a dynamic, 3D environment. The animation is designed to captivate the viewer's attention and set the stage for the upcoming challenge.\",\n",
       "   \"'YOUR CITY, NO LIMITS' appears in bold, vibrant letters, reinforcing the campaign's theme of boundless creativity and adventure.\",\n",
       "   \"A digital countdown timer, styled to resemble LEGO bricks, adds an element of suspense and anticipation, building up to the reveal of the 'ULTIMATE ESCAPE CHALLENGE'.\"]},\n",
       " {'Frame': 'frame_2',\n",
       "  'Categories': ['Video Clips', 'Swipe Indicator'],\n",
       "  'Prompts': [\"A series of quick, exciting clips showcasing various challenges in the 'ULTIMATE ESCAPE CHALLENGE'. Each clip features different LEGO CITY sets and mini-figures, highlighting the diversity and expansiveness of the LEGO CITY universe.\",\n",
       "   'A subtle, animated swipe indicator encourages viewers to interact with the ad and explore the different challenges.']},\n",
       " {'Frame': 'frame_3',\n",
       "  'Categories': ['Logo', 'CTA Button'],\n",
       "  'Prompts': ['The LEGO CITY 2024 logo, designed with the iconic LEGO brick pattern, reinforces brand recognition and ties the ad back to the product line.',\n",
       "   \"A 'Play Now' button, styled to resemble a LEGO brick, invites users to join the challenge on the LEGO website. The button is strategically placed to be easily noticeable and accessible, encouraging viewers to take immediate action.\"]}]"
      ]
     },
     "execution_count": 72,
     "metadata": {},
     "output_type": "execute_result"
    }
   ],
   "source": [
    "frames = []\n",
    "for key,value in first_concept_first_asset_suggestion.items():\n",
    "    data = {'Frame':'','Categories':[],'Prompts':[]}\n",
    "    # jump explanation key\n",
    "    if('frame' not in key):\n",
    "        continue\n",
    "    data['Frame'] = key\n",
    "    for k,v in value.items():\n",
    "        data['Categories'].append(k)\n",
    "        data['Prompts'].append(v)\n",
    "    frames.append(data)\n",
    "\n",
    "frames"
   ]
  },
  {
   "cell_type": "markdown",
   "metadata": {},
   "source": [
    "## Exploring the categories data"
   ]
  },
  {
   "cell_type": "code",
   "execution_count": 27,
   "metadata": {},
   "outputs": [
    {
     "data": {
      "text/html": [
       "<div>\n",
       "<style scoped>\n",
       "    .dataframe tbody tr th:only-of-type {\n",
       "        vertical-align: middle;\n",
       "    }\n",
       "\n",
       "    .dataframe tbody tr th {\n",
       "        vertical-align: top;\n",
       "    }\n",
       "\n",
       "    .dataframe thead th {\n",
       "        text-align: right;\n",
       "    }\n",
       "</style>\n",
       "<table border=\"1\" class=\"dataframe\">\n",
       "  <thead>\n",
       "    <tr style=\"text-align: right;\">\n",
       "      <th></th>\n",
       "      <th>Categories</th>\n",
       "    </tr>\n",
       "  </thead>\n",
       "  <tbody>\n",
       "    <tr>\n",
       "      <th>0</th>\n",
       "      <td>1. Background Image</td>\n",
       "    </tr>\n",
       "    <tr>\n",
       "      <th>1</th>\n",
       "      <td>2. Logo</td>\n",
       "    </tr>\n",
       "    <tr>\n",
       "      <th>2</th>\n",
       "      <td>3. Call-To-Action (CTA) Button</td>\n",
       "    </tr>\n",
       "    <tr>\n",
       "      <th>3</th>\n",
       "      <td>4. Icon</td>\n",
       "    </tr>\n",
       "    <tr>\n",
       "      <th>4</th>\n",
       "      <td>5. Product Image</td>\n",
       "    </tr>\n",
       "  </tbody>\n",
       "</table>\n",
       "</div>"
      ],
      "text/plain": [
       "                       Categories\n",
       "0             1. Background Image\n",
       "1                         2. Logo\n",
       "2  3. Call-To-Action (CTA) Button\n",
       "3                         4. Icon\n",
       "4                5. Product Image"
      ]
     },
     "execution_count": 27,
     "metadata": {},
     "output_type": "execute_result"
    }
   ],
   "source": [
    "categories_df = pd.read_csv('../data/categories.txt')\n",
    "categories_df.head()"
   ]
  }
 ],
 "metadata": {
  "kernelspec": {
   "display_name": "week10_storyboard",
   "language": "python",
   "name": "python3"
  },
  "language_info": {
   "codemirror_mode": {
    "name": "ipython",
    "version": 3
   },
   "file_extension": ".py",
   "mimetype": "text/x-python",
   "name": "python",
   "nbconvert_exporter": "python",
   "pygments_lexer": "ipython3",
   "version": "3.8.18"
  }
 },
 "nbformat": 4,
 "nbformat_minor": 2
}
