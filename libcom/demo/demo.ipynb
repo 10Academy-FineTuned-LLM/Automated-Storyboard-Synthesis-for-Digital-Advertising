{
 "cells": [
  {
   "cell_type": "code",
   "execution_count": 4,
   "metadata": {},
   "outputs": [
    {
     "ename": "ValueError",
     "evalue": "could not broadcast input array from shape (460,480) into shape (129,24)",
     "output_type": "error",
     "traceback": [
      "\u001b[0;31m---------------------------------------------------------------------------\u001b[0m",
      "\u001b[0;31mValueError\u001b[0m                                Traceback (most recent call last)",
      "Cell \u001b[0;32mIn[4], line 14\u001b[0m\n\u001b[1;32m     12\u001b[0m fg_mask \u001b[38;5;241m=\u001b[39m test_dir \u001b[38;5;241m+\u001b[39m \u001b[38;5;124m'\u001b[39m\u001b[38;5;124mforeground_mask/\u001b[39m\u001b[38;5;124m'\u001b[39m \u001b[38;5;241m+\u001b[39m img_name\u001b[38;5;241m.\u001b[39mreplace(\u001b[38;5;124m'\u001b[39m\u001b[38;5;124m.jpeg\u001b[39m\u001b[38;5;124m'\u001b[39m, \u001b[38;5;124m'\u001b[39m\u001b[38;5;124m.png\u001b[39m\u001b[38;5;124m'\u001b[39m)\n\u001b[1;32m     13\u001b[0m \u001b[38;5;66;03m# generate composite images by naive methods\u001b[39;00m\n\u001b[0;32m---> 14\u001b[0m comp_img1, comp_mask1 \u001b[38;5;241m=\u001b[39m \u001b[43mget_composite_image\u001b[49m\u001b[43m(\u001b[49m\u001b[43mfg_img\u001b[49m\u001b[43m,\u001b[49m\u001b[43m \u001b[49m\u001b[43mfg_mask\u001b[49m\u001b[43m,\u001b[49m\u001b[43m \u001b[49m\u001b[43mbg_img\u001b[49m\u001b[43m,\u001b[49m\u001b[43m \u001b[49m\u001b[43mbbox\u001b[49m\u001b[43m,\u001b[49m\u001b[43m \u001b[49m\u001b[38;5;124;43m'\u001b[39;49m\u001b[38;5;124;43mnone\u001b[39;49m\u001b[38;5;124;43m'\u001b[39;49m\u001b[43m)\u001b[49m\n\u001b[1;32m     15\u001b[0m comp_img2, comp_mask2 \u001b[38;5;241m=\u001b[39m get_composite_image(fg_img, fg_mask, bg_img, bbox, \u001b[38;5;124m'\u001b[39m\u001b[38;5;124mgaussian\u001b[39m\u001b[38;5;124m'\u001b[39m)\n\u001b[1;32m     16\u001b[0m comp_img3, comp_mask3 \u001b[38;5;241m=\u001b[39m get_composite_image(fg_img, fg_mask, bg_img, bbox, \u001b[38;5;124m'\u001b[39m\u001b[38;5;124mpoisson\u001b[39m\u001b[38;5;124m'\u001b[39m)\n",
      "File \u001b[0;32m~/miniconda3/envs/Libcom/lib/python3.8/site-packages/libcom/naive_composition/generate_composite_image.py:58\u001b[0m, in \u001b[0;36mget_composite_image\u001b[0;34m(foreground_image, foreground_mask, background_image, bbox, option)\u001b[0m\n\u001b[1;32m     56\u001b[0m bg_img   \u001b[38;5;241m=\u001b[39m read_image_opencv(background_image)\n\u001b[1;32m     57\u001b[0m \u001b[38;5;28;01mif\u001b[39;00m option \u001b[38;5;241m==\u001b[39m \u001b[38;5;124m'\u001b[39m\u001b[38;5;124mnone\u001b[39m\u001b[38;5;124m'\u001b[39m:\n\u001b[0;32m---> 58\u001b[0m     comp_img,comp_mask \u001b[38;5;241m=\u001b[39m \u001b[43msimple_composite_image\u001b[49m\u001b[43m(\u001b[49m\u001b[43mbg_img\u001b[49m\u001b[43m,\u001b[49m\u001b[43m \u001b[49m\u001b[43mfg_img\u001b[49m\u001b[43m,\u001b[49m\u001b[43m \u001b[49m\u001b[43mfg_mask\u001b[49m\u001b[43m,\u001b[49m\u001b[43m \u001b[49m\u001b[43mbbox\u001b[49m\u001b[43m)\u001b[49m\n\u001b[1;32m     59\u001b[0m \u001b[38;5;28;01melif\u001b[39;00m option \u001b[38;5;241m==\u001b[39m \u001b[38;5;124m'\u001b[39m\u001b[38;5;124mgaussian\u001b[39m\u001b[38;5;124m'\u001b[39m:\n\u001b[1;32m     60\u001b[0m     comp_img,comp_mask \u001b[38;5;241m=\u001b[39m gaussian_composite_image(bg_img, fg_img, fg_mask, bbox)\n",
      "File \u001b[0;32m~/miniconda3/envs/Libcom/lib/python3.8/site-packages/libcom/naive_composition/generate_composite_image.py:83\u001b[0m, in \u001b[0;36msimple_composite_image\u001b[0;34m(bg_img, fg_img, fg_mask, bbox)\u001b[0m\n\u001b[1;32m     81\u001b[0m x1, y1, x2, y2 \u001b[38;5;241m=\u001b[39m bbox\n\u001b[1;32m     82\u001b[0m comp_mask \u001b[38;5;241m=\u001b[39m np\u001b[38;5;241m.\u001b[39mzeros((bg_img\u001b[38;5;241m.\u001b[39mshape[\u001b[38;5;241m0\u001b[39m], bg_img\u001b[38;5;241m.\u001b[39mshape[\u001b[38;5;241m1\u001b[39m]), dtype\u001b[38;5;241m=\u001b[39mnp\u001b[38;5;241m.\u001b[39muint8) \n\u001b[0;32m---> 83\u001b[0m \u001b[43mcomp_mask\u001b[49m\u001b[43m[\u001b[49m\u001b[43my1\u001b[49m\u001b[43m:\u001b[49m\u001b[43my2\u001b[49m\u001b[43m,\u001b[49m\u001b[43m \u001b[49m\u001b[43mx1\u001b[49m\u001b[43m:\u001b[49m\u001b[43mx2\u001b[49m\u001b[43m]\u001b[49m \u001b[38;5;241m=\u001b[39m fg_mask\n\u001b[1;32m     84\u001b[0m comp_img \u001b[38;5;241m=\u001b[39m bg_img\u001b[38;5;241m.\u001b[39mcopy()\n\u001b[1;32m     85\u001b[0m comp_img[y1:y2, x1:x2]  \u001b[38;5;241m=\u001b[39m np\u001b[38;5;241m.\u001b[39mwhere(fg_mask[:,:,np\u001b[38;5;241m.\u001b[39mnewaxis]\u001b[38;5;241m>\u001b[39m \u001b[38;5;241m127\u001b[39m, fg_region, comp_img[y1:y2, x1:x2])\n",
      "\u001b[0;31mValueError\u001b[0m: could not broadcast input array from shape (460,480) into shape (129,24)"
     ]
    }
   ],
   "source": [
    "# composite image generation by copy-and-paste followed by image blending.\n",
    "from libcom import get_composite_image\n",
    "from libcom.utils.process_image import make_image_grid, draw_bbox_on_image\n",
    "import cv2\n",
    "test_dir = '../source/'\n",
    "img_list = ['21.jpeg']\n",
    "bbox_list = [[1000, 895, 1480, 1355], [1170, 944, 2331, 3069]] \n",
    "for i,img_name in enumerate(img_list):\n",
    "    bg_img  = test_dir + 'background/' + img_name\n",
    "    bbox    = bbox_list[i] # x1,y1,x2,y2\n",
    "    fg_img  = test_dir + 'foreground/' + img_name\n",
    "    fg_mask = test_dir + 'foreground_mask/' + img_name.replace('.jpeg', '.png')\n",
    "    # generate composite images by naive methods\n",
    "    comp_img1, comp_mask1 = get_composite_image(fg_img, fg_mask, bg_img, bbox, 'none')\n",
    "    comp_img2, comp_mask2 = get_composite_image(fg_img, fg_mask, bg_img, bbox, 'gaussian')\n",
    "    comp_img3, comp_mask3 = get_composite_image(fg_img, fg_mask, bg_img, bbox, 'poisson')\n",
    "    vis_list = [bg_img, fg_img, comp_img1, comp_mask1, comp_img2, comp_mask2, comp_img3, comp_mask3]\n",
    "    # visualization results\n",
    "    grid_img  = make_image_grid(vis_list, cols=4)\n",
    "    cv2.imwrite(f'../docs/_static/image/generatecomposite_result{i+1}.jpg', grid_img)"
   ]
  },
  {
   "cell_type": "code",
   "execution_count": null,
   "metadata": {},
   "outputs": [],
   "source": [
    "# color-transfer: transfer foreground color to fit background scene.\n",
    "from libcom import color_transfer\n",
    "from libcom.utils.process_image import make_image_grid\n",
    "import cv2\n",
    "comp_img1  = '../tests/source/composite/1.jpg'\n",
    "comp_mask1 = '../tests/source/composite_mask/1.png'\n",
    "trans_img1 = color_transfer(comp_img1, comp_mask1)\n",
    "comp_img2  = '../tests/source/composite/8.jpg'\n",
    "comp_mask2 = '../tests/source/composite_mask/8.png'\n",
    "trans_img2 = color_transfer(comp_img2, comp_mask2)\n",
    "# visualization results\n",
    "grid_img  = make_image_grid([comp_img1, comp_mask1, trans_img1, \n",
    "                            comp_img2, comp_mask2, trans_img2], cols=3)\n",
    "cv2.imwrite('../docs/_static/image/colortransfer_result1.jpg', grid_img)"
   ]
  },
  {
   "cell_type": "code",
   "execution_count": null,
   "metadata": {},
   "outputs": [],
   "source": [
    "# predict harmony score for a composite image.\n",
    "from libcom import HarmonyScoreModel\n",
    "from libcom.utils.process_image import make_image_grid\n",
    "import cv2\n",
    "net = HarmonyScoreModel(device=0, model_type='BargainNet')\n",
    "test_dir   = '../tests/harmony_score_prediction/'\n",
    "img_names  = ['vaulted-cellar-247391_inharm.jpg', 'ameland-5651866_harm.jpg']\n",
    "vis_list,scores = [], []\n",
    "for img_name in img_names:\n",
    "    comp_img  = test_dir + 'composite/' + img_name\n",
    "    comp_mask = test_dir + 'composite_mask/' + img_name\n",
    "    score     = net(comp_img, comp_mask)\n",
    "    vis_list += [comp_img, comp_mask]\n",
    "    scores.append(score)\n",
    "grid_img  = make_image_grid(vis_list, text_list=[f'harmony_score:{scores[0]:.2f}', 'composite-mask', f'harmony_score:{scores[1]:.2f}', 'composite-mask'])\n",
    "cv2.imwrite('../docs/_static/image/harmonyscore_result1.jpg', grid_img)"
   ]
  },
  {
   "cell_type": "code",
   "execution_count": null,
   "metadata": {},
   "outputs": [],
   "source": [
    "# Object Placement Assessment (OPA) score prediction\n",
    "from libcom import OPAScoreModel\n",
    "from libcom import get_composite_image\n",
    "from libcom.utils.process_image import make_image_grid\n",
    "import cv2\n",
    "net = OPAScoreModel(device=0, model_type='SimOPA')\n",
    "test_dir  = './source'\n",
    "bg_img    = 'source/background/17.jpg'\n",
    "fg_img    = 'source/foreground/17.jpg'\n",
    "fg_mask   = 'source/foreground_mask/17.png'\n",
    "bbox_list = [[475, 697, 1275, 1401], [475, 300, 1275, 1004]]\n",
    "comp1, comp_mask1 = get_composite_image(fg_img, fg_mask, bg_img, bbox_list[0])\n",
    "comp2, comp_mask2 = get_composite_image(fg_img, fg_mask, bg_img, bbox_list[1])\n",
    "score1 = net(comp1, comp_mask1)\n",
    "score2 = net(comp2, comp_mask2)\n",
    "grid_img  = make_image_grid([comp1, comp_mask1, comp2, comp_mask2], text_list=[f'opa_score:{score1:.2f}', 'composite-mask', f'opa_score:{score2:.2f}', 'composite-mask'])\n",
    "cv2.imwrite('../docs/_static/image/opascore_result1.jpg', grid_img)"
   ]
  },
  {
   "cell_type": "code",
   "execution_count": null,
   "metadata": {},
   "outputs": [],
   "source": [
    "# Foreground Object Search (FOS) score prediction\n",
    "from libcom.utils.process_image import make_image_grid\n",
    "from libcom import FOSScoreModel\n",
    "import cv2\n",
    "import torch\n",
    "\n",
    "task_name = 'fos_score_prediction'\n",
    "MODEL_TYPE = 'FOS_D' # choose from 'FOS_D', 'FOS_E'\n",
    "background = '../tests/source/background/f80eda2459853824_m09g1w_b2413ec8_11.png'\n",
    "fg_bbox    = [175, 82, 309, 310] # x1,y1,x2,y2\n",
    "foreground = '../tests/source/foreground/f80eda2459853824_m09g1w_b2413ec8_11.png'\n",
    "foreground_mask = '../tests/source/foreground_mask/f80eda2459853824_m09g1w_b2413ec8_11.png'\n",
    "net = FOSScoreModel(device=0, model_type=MODEL_TYPE)\n",
    "score = net(background_image, foreground_image, bounding_box, foreground_mask=foreground_mask)\n",
    "grid_img  = make_image_grid([background_image, foreground_image, composite_image], text_list=[f'fos_score:{score:.2f}'])\n",
    "cv2.imshow('fos_score_demo', grid_img)\n"
   ]
  },
  {
   "cell_type": "code",
   "execution_count": null,
   "metadata": {},
   "outputs": [],
   "source": [
    "# controllable image composition\n",
    "from libcom import ControlComModel\n",
    "from libcom.utils.process_image import make_image_grid, draw_bbox_on_image\n",
    "import cv2\n",
    "img_names = ['6c5601278dcb5e6d_m09728_f5cd2891_17.png', '000000460450.png']\n",
    "bboxes    = [[130, 91, 392, 271], [134, 158, 399, 511]] # x1,y1,x2,y2\n",
    "test_dir  = '../tests/controllable_composition/'\n",
    "for i in range(len(img_names)):\n",
    "    bg_img  = test_dir + 'background/' + img_names[i]\n",
    "    fg_img  = test_dir + 'foreground/' + img_names[i]\n",
    "    bbox    = bboxes[i]\n",
    "    mask    = test_dir + 'foreground_mask/' + img_names[i]\n",
    "    net     = ControlComModel(device=0)\n",
    "    comp    = net(bg_img, fg_img, bbox, mask, task=['blending', 'harmonization'])\n",
    "    bg_img  = draw_bbox_on_image(bg_img, bbox)\n",
    "    grid_img = make_image_grid([bg_img, fg_img, comp[0], comp[1]])\n",
    "    cv2.imwrite('../docs/_static/image/controlcom_result{}.jpg'.format(i+1), grid_img)\n"
   ]
  }
 ],
 "metadata": {
  "kernelspec": {
   "display_name": "Libcom",
   "language": "python",
   "name": "python3"
  },
  "language_info": {
   "codemirror_mode": {
    "name": "ipython",
    "version": 3
   },
   "file_extension": ".py",
   "mimetype": "text/x-python",
   "name": "python",
   "nbconvert_exporter": "python",
   "pygments_lexer": "ipython3",
   "version": "3.8.5"
  },
  "orig_nbformat": 4
 },
 "nbformat": 4,
 "nbformat_minor": 2
}
