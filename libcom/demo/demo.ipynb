{
 "cells": [
  {
   "cell_type": "code",
   "execution_count": null,
   "metadata": {},
   "outputs": [],
   "source": [
    "# composite image generation by copy-and-paste followed by image blending.\n",
    "from libcom import get_composite_image\n",
    "from libcom.utils.process_image import make_image_grid, draw_bbox_on_image\n",
    "import cv2\n",
    "test_dir = 'source/'\n",
    "img_list = ['1.jpg', '8.jpg']\n",
    "bbox_list = [[1000, 895, 1480, 1355], [1170, 944, 2331, 3069]] \n",
    "for i,img_name in enumerate(img_list):\n",
    "    bg_img  = test_dir + 'background/' + img_name\n",
    "    bbox    = bbox_list[i] # x1,y1,x2,y2\n",
    "    fg_img  = test_dir + 'foreground/' + img_name\n",
    "    fg_mask = test_dir + 'foreground_mask/' + img_name.replace('.jpg', '.png')\n",
    "    # generate composite images by naive methods\n",
    "    comp_img1, comp_mask1 = get_composite_image(fg_img, fg_mask, bg_img, bbox, 'none')\n",
    "    comp_img2, comp_mask2 = get_composite_image(fg_img, fg_mask, bg_img, bbox, 'gaussian')\n",
    "    comp_img3, comp_mask3 = get_composite_image(fg_img, fg_mask, bg_img, bbox, 'poisson')\n",
    "    vis_list = [bg_img, fg_img, comp_img1, comp_mask1, comp_img2, comp_mask2, comp_img3, comp_mask3]\n",
    "    # visualization results\n",
    "    grid_img  = make_image_grid(vis_list, cols=4)\n",
    "    cv2.imwrite(f'../docs/_static/image/generatecomposite_result{i+1}.jpg', grid_img)"
   ]
  },
  {
   "cell_type": "code",
   "execution_count": null,
   "metadata": {},
   "outputs": [],
   "source": [
    "# color-transfer: transfer foreground color to fit background scene.\n",
    "from libcom import color_transfer\n",
    "from libcom.utils.process_image import make_image_grid\n",
    "import cv2\n",
    "comp_img1  = '../tests/source/composite/1.jpg'\n",
    "comp_mask1 = '../tests/source/composite_mask/1.png'\n",
    "trans_img1 = color_transfer(comp_img1, comp_mask1)\n",
    "comp_img2  = '../tests/source/composite/8.jpg'\n",
    "comp_mask2 = '../tests/source/composite_mask/8.png'\n",
    "trans_img2 = color_transfer(comp_img2, comp_mask2)\n",
    "# visualization results\n",
    "grid_img  = make_image_grid([comp_img1, comp_mask1, trans_img1, \n",
    "                            comp_img2, comp_mask2, trans_img2], cols=3)\n",
    "cv2.imwrite('../docs/_static/image/colortransfer_result1.jpg', grid_img)"
   ]
  },
  {
   "cell_type": "code",
   "execution_count": null,
   "metadata": {},
   "outputs": [],
   "source": [
    "# predict harmony score for a composite image.\n",
    "from libcom import HarmonyScoreModel\n",
    "from libcom.utils.process_image import make_image_grid\n",
    "import cv2\n",
    "net = HarmonyScoreModel(device=0, model_type='BargainNet')\n",
    "test_dir   = '../tests/harmony_score_prediction/'\n",
    "img_names  = ['vaulted-cellar-247391_inharm.jpg', 'ameland-5651866_harm.jpg']\n",
    "vis_list,scores = [], []\n",
    "for img_name in img_names:\n",
    "    comp_img  = test_dir + 'composite/' + img_name\n",
    "    comp_mask = test_dir + 'composite_mask/' + img_name\n",
    "    score     = net(comp_img, comp_mask)\n",
    "    vis_list += [comp_img, comp_mask]\n",
    "    scores.append(score)\n",
    "grid_img  = make_image_grid(vis_list, text_list=[f'harmony_score:{scores[0]:.2f}', 'composite-mask', f'harmony_score:{scores[1]:.2f}', 'composite-mask'])\n",
    "cv2.imwrite('../docs/_static/image/harmonyscore_result1.jpg', grid_img)"
   ]
  },
  {
   "cell_type": "code",
   "execution_count": null,
   "metadata": {},
   "outputs": [],
   "source": [
    "# Object Placement Assessment (OPA) score prediction\n",
    "from libcom import OPAScoreModel\n",
    "from libcom import get_composite_image\n",
    "from libcom.utils.process_image import make_image_grid\n",
    "import cv2\n",
    "net = OPAScoreModel(device=0, model_type='SimOPA')\n",
    "test_dir  = './source'\n",
    "bg_img    = 'source/background/17.jpg'\n",
    "fg_img    = 'source/foreground/17.jpg'\n",
    "fg_mask   = 'source/foreground_mask/17.png'\n",
    "bbox_list = [[475, 697, 1275, 1401], [475, 300, 1275, 1004]]\n",
    "comp1, comp_mask1 = get_composite_image(fg_img, fg_mask, bg_img, bbox_list[0])\n",
    "comp2, comp_mask2 = get_composite_image(fg_img, fg_mask, bg_img, bbox_list[1])\n",
    "score1 = net(comp1, comp_mask1)\n",
    "score2 = net(comp2, comp_mask2)\n",
    "grid_img  = make_image_grid([comp1, comp_mask1, comp2, comp_mask2], text_list=[f'opa_score:{score1:.2f}', 'composite-mask', f'opa_score:{score2:.2f}', 'composite-mask'])\n",
    "cv2.imwrite('../docs/_static/image/opascore_result1.jpg', grid_img)"
   ]
  },
  {
   "cell_type": "code",
   "execution_count": null,
   "metadata": {},
   "outputs": [],
   "source": [
    "# Foreground Object Search (FOS) score prediction\n",
    "from libcom.utils.process_image import make_image_grid\n",
    "from libcom import FOSScoreModel\n",
    "import cv2\n",
    "import torch\n",
    "\n",
    "task_name = 'fos_score_prediction'\n",
    "MODEL_TYPE = 'FOS_D' # choose from 'FOS_D', 'FOS_E'\n",
    "background = '../tests/source/background/f80eda2459853824_m09g1w_b2413ec8_11.png'\n",
    "fg_bbox    = [175, 82, 309, 310] # x1,y1,x2,y2\n",
    "foreground = '../tests/source/foreground/f80eda2459853824_m09g1w_b2413ec8_11.png'\n",
    "foreground_mask = '../tests/source/foreground_mask/f80eda2459853824_m09g1w_b2413ec8_11.png'\n",
    "net = FOSScoreModel(device=0, model_type=MODEL_TYPE)\n",
    "score = net(background_image, foreground_image, bounding_box, foreground_mask=foreground_mask)\n",
    "grid_img  = make_image_grid([background_image, foreground_image, composite_image], text_list=[f'fos_score:{score:.2f}'])\n",
    "cv2.imshow('fos_score_demo', grid_img)\n"
   ]
  },
  {
   "cell_type": "code",
   "execution_count": null,
   "metadata": {},
   "outputs": [],
   "source": [
    "# controllable image composition\n",
    "from libcom import ControlComModel\n",
    "from libcom.utils.process_image import make_image_grid, draw_bbox_on_image\n",
    "import cv2\n",
    "img_names = ['6c5601278dcb5e6d_m09728_f5cd2891_17.png', '000000460450.png']\n",
    "bboxes    = [[130, 91, 392, 271], [134, 158, 399, 511]] # x1,y1,x2,y2\n",
    "test_dir  = '../tests/controllable_composition/'\n",
    "for i in range(len(img_names)):\n",
    "    bg_img  = test_dir + 'background/' + img_names[i]\n",
    "    fg_img  = test_dir + 'foreground/' + img_names[i]\n",
    "    bbox    = bboxes[i]\n",
    "    mask    = test_dir + 'foreground_mask/' + img_names[i]\n",
    "    net     = ControlComModel(device=0)\n",
    "    comp    = net(bg_img, fg_img, bbox, mask, task=['blending', 'harmonization'])\n",
    "    bg_img  = draw_bbox_on_image(bg_img, bbox)\n",
    "    grid_img = make_image_grid([bg_img, fg_img, comp[0], comp[1]])\n",
    "    cv2.imwrite('../docs/_static/image/controlcom_result{}.jpg'.format(i+1), grid_img)\n"
   ]
  }
 ],
 "metadata": {
  "kernelspec": {
   "display_name": "Libcom",
   "language": "python",
   "name": "python3"
  },
  "language_info": {
   "codemirror_mode": {
    "name": "ipython",
    "version": 3
   },
   "file_extension": ".py",
   "mimetype": "text/x-python",
   "name": "python",
   "nbconvert_exporter": "python",
   "pygments_lexer": "ipython3",
   "version": "3.8.5"
  },
  "orig_nbformat": 4
 },
 "nbformat": 4,
 "nbformat_minor": 2
}
